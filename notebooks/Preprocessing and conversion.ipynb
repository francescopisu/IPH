{
 "cells": [
  {
   "cell_type": "code",
   "execution_count": 15,
   "id": "c30d36e6",
   "metadata": {},
   "outputs": [],
   "source": [
    "import pandas as pd"
   ]
  },
  {
   "cell_type": "code",
   "execution_count": 16,
   "id": "7404888d",
   "metadata": {},
   "outputs": [],
   "source": [
    "# Side (1 = left side / 0 = right side)\n",
    "# Lipid_Volume (is INCLUSIVE of IPH) . Obtained for HU values < 60 HU\n",
    "# Gender (male = 1, female = 0)"
   ]
  },
  {
   "cell_type": "code",
   "execution_count": 17,
   "id": "24441e15",
   "metadata": {},
   "outputs": [],
   "source": [
    "train1 = pd.read_excel(\"../input/Excel/train1.xlsx\")\n",
    "train2 = pd.read_excel(\"../input/Excel/train2.xlsx\")\n",
    "ext = pd.read_excel(\"../input/Excel/external.xlsx\")"
   ]
  },
  {
   "cell_type": "code",
   "execution_count": 18,
   "id": "c8f4edc2",
   "metadata": {},
   "outputs": [
    {
     "data": {
      "text/plain": [
       "((200, 26), (40, 22), (106, 23))"
      ]
     },
     "execution_count": 18,
     "metadata": {},
     "output_type": "execute_result"
    }
   ],
   "source": [
    "train1.shape, train2.shape, ext.shape"
   ]
  },
  {
   "cell_type": "markdown",
   "id": "d2c2c285",
   "metadata": {},
   "source": [
    "# Drop unuseful columns"
   ]
  },
  {
   "cell_type": "code",
   "execution_count": 19,
   "id": "1e6e3152",
   "metadata": {},
   "outputs": [],
   "source": [
    "TO_DROP = [\"id\", \"sub_id\", \"Unnamed: 25\", 'side']"
   ]
  },
  {
   "cell_type": "code",
   "execution_count": 20,
   "id": "947ece7e",
   "metadata": {},
   "outputs": [],
   "source": [
    "train1.drop(TO_DROP, axis=1, inplace=True, errors='ignore')\n",
    "train2.drop(TO_DROP, axis=1, inplace=True, errors='ignore')\n",
    "ext.drop(TO_DROP, axis=1, inplace=True, errors='ignore')"
   ]
  },
  {
   "cell_type": "markdown",
   "id": "4d073b9b",
   "metadata": {},
   "source": [
    "# Add IPH columns\n",
    "Value is 1 if iph volume is greater than 0, 0 otherwise"
   ]
  },
  {
   "cell_type": "code",
   "execution_count": 21,
   "id": "e33982ca",
   "metadata": {},
   "outputs": [],
   "source": [
    "train1.drop('iph', axis=1, errors='ignore', inplace=True)\n",
    "train1['iph'] = (train1['iph_volume'] > 0).astype('uint8')\n",
    "train2['iph'] = (train2['iph_volume'] > 0).astype('uint8')\n",
    "ext['iph'] = (ext['iph_volume'] > 0).astype('uint8')"
   ]
  },
  {
   "cell_type": "markdown",
   "id": "3f646c42",
   "metadata": {},
   "source": [
    "# Assign correct dtypes to columns"
   ]
  },
  {
   "cell_type": "code",
   "execution_count": 22,
   "id": "6289282a",
   "metadata": {},
   "outputs": [],
   "source": [
    "NUMERIC = ['plaque_volume', 'iph_volume', 'lipid_minus_iph',\n",
    "           'lipid_volume', 'mixed_volume', 'calcium_volume', 'perc_lipid',\n",
    "           'perc_mixed', 'perc_calcium', 'perc_iph', 'perc_lipid_minus_iph',\n",
    "           'iph_total_lipid_ratio', 'age']\n",
    "CATEGORICAL = ['symptoms', 'iph', 'hypertension', 'CAD', \n",
    "               'smoker', 'gender', 'diabetes', \n",
    "               'lipids', 'stenosis']\n",
    "\n",
    "for s in [train1, train2, ext]:\n",
    "    s[NUMERIC] = s[NUMERIC].astype('float64')\n",
    "    s[CATEGORICAL] = s[CATEGORICAL].astype('category')    "
   ]
  },
  {
   "cell_type": "code",
   "execution_count": 23,
   "id": "d8f6cab2",
   "metadata": {},
   "outputs": [],
   "source": [
    "train = pd.concat([train1, train2], axis=0)"
   ]
  },
  {
   "cell_type": "markdown",
   "id": "f0c33648",
   "metadata": {},
   "source": [
    "# Stats"
   ]
  },
  {
   "cell_type": "code",
   "execution_count": 26,
   "id": "ae0011c5",
   "metadata": {},
   "outputs": [],
   "source": [
    "symptomatic = ext[(ext[\"symptoms\"] == 1)]\n",
    "asymptomatic = ext[(ext[\"symptoms\"] == 0)]"
   ]
  },
  {
   "cell_type": "code",
   "execution_count": 32,
   "id": "986e6665",
   "metadata": {},
   "outputs": [
    {
     "data": {
      "text/html": [
       "<div>\n",
       "<style scoped>\n",
       "    .dataframe tbody tr th:only-of-type {\n",
       "        vertical-align: middle;\n",
       "    }\n",
       "\n",
       "    .dataframe tbody tr th {\n",
       "        vertical-align: top;\n",
       "    }\n",
       "\n",
       "    .dataframe thead th {\n",
       "        text-align: right;\n",
       "    }\n",
       "</style>\n",
       "<table border=\"1\" class=\"dataframe\">\n",
       "  <thead>\n",
       "    <tr style=\"text-align: right;\">\n",
       "      <th></th>\n",
       "      <th>age</th>\n",
       "      <th>iph_total_lipid_ratio</th>\n",
       "      <th>lipid_volume</th>\n",
       "      <th>perc_lipid</th>\n",
       "      <th>perc_iph</th>\n",
       "    </tr>\n",
       "  </thead>\n",
       "  <tbody>\n",
       "    <tr>\n",
       "      <th>count</th>\n",
       "      <td>31.000000</td>\n",
       "      <td>31.000000</td>\n",
       "      <td>31.000000</td>\n",
       "      <td>31.000000</td>\n",
       "      <td>31.000000</td>\n",
       "    </tr>\n",
       "    <tr>\n",
       "      <th>mean</th>\n",
       "      <td>74.677419</td>\n",
       "      <td>0.544284</td>\n",
       "      <td>314.838710</td>\n",
       "      <td>27.970921</td>\n",
       "      <td>15.174637</td>\n",
       "    </tr>\n",
       "    <tr>\n",
       "      <th>std</th>\n",
       "      <td>8.471077</td>\n",
       "      <td>0.284670</td>\n",
       "      <td>231.644281</td>\n",
       "      <td>13.070911</td>\n",
       "      <td>9.870976</td>\n",
       "    </tr>\n",
       "    <tr>\n",
       "      <th>min</th>\n",
       "      <td>53.000000</td>\n",
       "      <td>0.000000</td>\n",
       "      <td>31.000000</td>\n",
       "      <td>8.189952</td>\n",
       "      <td>0.000000</td>\n",
       "    </tr>\n",
       "    <tr>\n",
       "      <th>25%</th>\n",
       "      <td>67.500000</td>\n",
       "      <td>0.462689</td>\n",
       "      <td>132.000000</td>\n",
       "      <td>17.214461</td>\n",
       "      <td>8.535179</td>\n",
       "    </tr>\n",
       "    <tr>\n",
       "      <th>50%</th>\n",
       "      <td>76.000000</td>\n",
       "      <td>0.644951</td>\n",
       "      <td>255.000000</td>\n",
       "      <td>25.160875</td>\n",
       "      <td>15.724563</td>\n",
       "    </tr>\n",
       "    <tr>\n",
       "      <th>75%</th>\n",
       "      <td>81.000000</td>\n",
       "      <td>0.744388</td>\n",
       "      <td>389.500000</td>\n",
       "      <td>37.978420</td>\n",
       "      <td>22.267727</td>\n",
       "    </tr>\n",
       "    <tr>\n",
       "      <th>max</th>\n",
       "      <td>89.000000</td>\n",
       "      <td>0.895928</td>\n",
       "      <td>883.000000</td>\n",
       "      <td>58.788282</td>\n",
       "      <td>32.775920</td>\n",
       "    </tr>\n",
       "  </tbody>\n",
       "</table>\n",
       "</div>"
      ],
      "text/plain": [
       "             age  iph_total_lipid_ratio  lipid_volume  perc_lipid   perc_iph\n",
       "count  31.000000              31.000000     31.000000   31.000000  31.000000\n",
       "mean   74.677419               0.544284    314.838710   27.970921  15.174637\n",
       "std     8.471077               0.284670    231.644281   13.070911   9.870976\n",
       "min    53.000000               0.000000     31.000000    8.189952   0.000000\n",
       "25%    67.500000               0.462689    132.000000   17.214461   8.535179\n",
       "50%    76.000000               0.644951    255.000000   25.160875  15.724563\n",
       "75%    81.000000               0.744388    389.500000   37.978420  22.267727\n",
       "max    89.000000               0.895928    883.000000   58.788282  32.775920"
      ]
     },
     "execution_count": 32,
     "metadata": {},
     "output_type": "execute_result"
    }
   ],
   "source": [
    "symptomatic[[\"age\", \"iph_total_lipid_ratio\", \"lipid_volume\", \"perc_lipid\", \"perc_iph\"]].describe()"
   ]
  },
  {
   "cell_type": "code",
   "execution_count": 33,
   "id": "4e920b46",
   "metadata": {},
   "outputs": [
    {
     "data": {
      "text/html": [
       "<div>\n",
       "<style scoped>\n",
       "    .dataframe tbody tr th:only-of-type {\n",
       "        vertical-align: middle;\n",
       "    }\n",
       "\n",
       "    .dataframe tbody tr th {\n",
       "        vertical-align: top;\n",
       "    }\n",
       "\n",
       "    .dataframe thead th {\n",
       "        text-align: right;\n",
       "    }\n",
       "</style>\n",
       "<table border=\"1\" class=\"dataframe\">\n",
       "  <thead>\n",
       "    <tr style=\"text-align: right;\">\n",
       "      <th></th>\n",
       "      <th>age</th>\n",
       "      <th>iph_total_lipid_ratio</th>\n",
       "      <th>lipid_volume</th>\n",
       "      <th>perc_lipid</th>\n",
       "      <th>perc_iph</th>\n",
       "    </tr>\n",
       "  </thead>\n",
       "  <tbody>\n",
       "    <tr>\n",
       "      <th>count</th>\n",
       "      <td>75.000000</td>\n",
       "      <td>75.000000</td>\n",
       "      <td>75.000000</td>\n",
       "      <td>75.000000</td>\n",
       "      <td>75.000000</td>\n",
       "    </tr>\n",
       "    <tr>\n",
       "      <th>mean</th>\n",
       "      <td>74.080000</td>\n",
       "      <td>0.093547</td>\n",
       "      <td>201.333333</td>\n",
       "      <td>21.071599</td>\n",
       "      <td>2.533180</td>\n",
       "    </tr>\n",
       "    <tr>\n",
       "      <th>std</th>\n",
       "      <td>8.921217</td>\n",
       "      <td>0.167762</td>\n",
       "      <td>163.701057</td>\n",
       "      <td>10.876268</td>\n",
       "      <td>4.818231</td>\n",
       "    </tr>\n",
       "    <tr>\n",
       "      <th>min</th>\n",
       "      <td>55.000000</td>\n",
       "      <td>0.000000</td>\n",
       "      <td>1.000000</td>\n",
       "      <td>0.146199</td>\n",
       "      <td>0.000000</td>\n",
       "    </tr>\n",
       "    <tr>\n",
       "      <th>25%</th>\n",
       "      <td>67.000000</td>\n",
       "      <td>0.000000</td>\n",
       "      <td>75.000000</td>\n",
       "      <td>14.110963</td>\n",
       "      <td>0.000000</td>\n",
       "    </tr>\n",
       "    <tr>\n",
       "      <th>50%</th>\n",
       "      <td>76.000000</td>\n",
       "      <td>0.000000</td>\n",
       "      <td>153.000000</td>\n",
       "      <td>19.923858</td>\n",
       "      <td>0.000000</td>\n",
       "    </tr>\n",
       "    <tr>\n",
       "      <th>75%</th>\n",
       "      <td>81.000000</td>\n",
       "      <td>0.129330</td>\n",
       "      <td>272.000000</td>\n",
       "      <td>26.814658</td>\n",
       "      <td>2.833985</td>\n",
       "    </tr>\n",
       "    <tr>\n",
       "      <th>max</th>\n",
       "      <td>88.000000</td>\n",
       "      <td>0.885572</td>\n",
       "      <td>855.000000</td>\n",
       "      <td>59.251559</td>\n",
       "      <td>24.063281</td>\n",
       "    </tr>\n",
       "  </tbody>\n",
       "</table>\n",
       "</div>"
      ],
      "text/plain": [
       "             age  iph_total_lipid_ratio  lipid_volume  perc_lipid   perc_iph\n",
       "count  75.000000              75.000000     75.000000   75.000000  75.000000\n",
       "mean   74.080000               0.093547    201.333333   21.071599   2.533180\n",
       "std     8.921217               0.167762    163.701057   10.876268   4.818231\n",
       "min    55.000000               0.000000      1.000000    0.146199   0.000000\n",
       "25%    67.000000               0.000000     75.000000   14.110963   0.000000\n",
       "50%    76.000000               0.000000    153.000000   19.923858   0.000000\n",
       "75%    81.000000               0.129330    272.000000   26.814658   2.833985\n",
       "max    88.000000               0.885572    855.000000   59.251559  24.063281"
      ]
     },
     "execution_count": 33,
     "metadata": {},
     "output_type": "execute_result"
    }
   ],
   "source": [
    "asymptomatic[[\"age\", \"iph_total_lipid_ratio\", \"lipid_volume\", \"perc_lipid\", \"perc_iph\"]].describe()"
   ]
  },
  {
   "cell_type": "code",
   "execution_count": 34,
   "id": "f6ad97f9",
   "metadata": {},
   "outputs": [
    {
     "data": {
      "text/plain": [
       "1    180\n",
       "0     60\n",
       "Name: gender, dtype: int64"
      ]
     },
     "execution_count": 34,
     "metadata": {},
     "output_type": "execute_result"
    }
   ],
   "source": [
    "train[\"gender\"].value_counts()"
   ]
  },
  {
   "cell_type": "code",
   "execution_count": null,
   "id": "77008fb7",
   "metadata": {},
   "outputs": [],
   "source": []
  },
  {
   "cell_type": "markdown",
   "id": "10b7db73",
   "metadata": {},
   "source": [
    "# Save datasets as .csv files"
   ]
  },
  {
   "cell_type": "code",
   "execution_count": 32,
   "id": "f9ce0243",
   "metadata": {},
   "outputs": [],
   "source": [
    "# save datasets as csv files"
   ]
  },
  {
   "cell_type": "code",
   "execution_count": 33,
   "id": "6f43233c",
   "metadata": {},
   "outputs": [],
   "source": [
    "train.to_csv('../input/train.csv', index=False)\n",
    "ext.to_csv('../input/external.csv', index=False)"
   ]
  }
 ],
 "metadata": {
  "kernelspec": {
   "display_name": "Python 3 (ipykernel)",
   "language": "python",
   "name": "python3"
  },
  "language_info": {
   "codemirror_mode": {
    "name": "ipython",
    "version": 3
   },
   "file_extension": ".py",
   "mimetype": "text/x-python",
   "name": "python",
   "nbconvert_exporter": "python",
   "pygments_lexer": "ipython3",
   "version": "3.9.12"
  }
 },
 "nbformat": 4,
 "nbformat_minor": 5
}
