{
 "cells": [
  {
   "cell_type": "code",
   "execution_count": 15,
   "id": "c30d36e6",
   "metadata": {},
   "outputs": [],
   "source": [
    "import pandas as pd"
   ]
  },
  {
   "cell_type": "code",
   "execution_count": 16,
   "id": "7404888d",
   "metadata": {},
   "outputs": [],
   "source": [
    "# Side (1 = left side / 0 = right side)\n",
    "# Lipid_Volume (is INCLUSIVE of IPH) . Obtained for HU values < 60 HU\n",
    "# Gender (male = 1, female = 0)"
   ]
  },
  {
   "cell_type": "code",
   "execution_count": 17,
   "id": "24441e15",
   "metadata": {},
   "outputs": [],
   "source": [
    "train1 = pd.read_excel(\"../input/Excel/train1.xlsx\")\n",
    "train2 = pd.read_excel(\"../input/Excel/train2.xlsx\")\n",
    "ext = pd.read_excel(\"../input/Excel/external.xlsx\")"
   ]
  },
  {
   "cell_type": "code",
   "execution_count": 18,
   "id": "c8f4edc2",
   "metadata": {},
   "outputs": [
    {
     "data": {
      "text/plain": [
       "((200, 26), (40, 22), (106, 23))"
      ]
     },
     "execution_count": 18,
     "metadata": {},
     "output_type": "execute_result"
    }
   ],
   "source": [
    "train1.shape, train2.shape, ext.shape"
   ]
  },
  {
   "cell_type": "markdown",
   "id": "d2c2c285",
   "metadata": {},
   "source": [
    "# Drop unuseful columns"
   ]
  },
  {
   "cell_type": "code",
   "execution_count": 19,
   "id": "1e6e3152",
   "metadata": {},
   "outputs": [],
   "source": [
    "TO_DROP = [\"id\", \"sub_id\", \"Unnamed: 25\", 'side']"
   ]
  },
  {
   "cell_type": "code",
   "execution_count": 20,
   "id": "947ece7e",
   "metadata": {},
   "outputs": [],
   "source": [
    "train1.drop(TO_DROP, axis=1, inplace=True, errors='ignore')\n",
    "train2.drop(TO_DROP, axis=1, inplace=True, errors='ignore')\n",
    "ext.drop(TO_DROP, axis=1, inplace=True, errors='ignore')"
   ]
  },
  {
   "cell_type": "markdown",
   "id": "4d073b9b",
   "metadata": {},
   "source": [
    "# Add IPH columns\n",
    "Value is 1 if iph volume is greater than 0, 0 otherwise"
   ]
  },
  {
   "cell_type": "code",
   "execution_count": 21,
   "id": "e33982ca",
   "metadata": {},
   "outputs": [],
   "source": [
    "train1.drop('iph', axis=1, errors='ignore', inplace=True)\n",
    "train1['iph'] = (train1['iph_volume'] > 0).astype('uint8')\n",
    "train2['iph'] = (train2['iph_volume'] > 0).astype('uint8')\n",
    "ext['iph'] = (ext['iph_volume'] > 0).astype('uint8')"
   ]
  },
  {
   "cell_type": "markdown",
   "id": "3f646c42",
   "metadata": {},
   "source": [
    "# Assign correct dtypes to columns"
   ]
  },
  {
   "cell_type": "code",
   "execution_count": 22,
   "id": "6289282a",
   "metadata": {},
   "outputs": [],
   "source": [
    "NUMERIC = ['plaque_volume', 'iph_volume', 'lipid_minus_iph',\n",
    "           'lipid_volume', 'mixed_volume', 'calcium_volume', 'perc_lipid',\n",
    "           'perc_mixed', 'perc_calcium', 'perc_iph', 'perc_lipid_minus_iph',\n",
    "           'iph_total_lipid_ratio', 'age']\n",
    "CATEGORICAL = ['symptoms', 'iph', 'hypertension', 'CAD', \n",
    "               'smoker', 'gender', 'diabetes', \n",
    "               'lipids', 'stenosis']\n",
    "\n",
    "for s in [train1, train2, ext]:\n",
    "    s[NUMERIC] = s[NUMERIC].astype('float64')\n",
    "    s[CATEGORICAL] = s[CATEGORICAL].astype('category')    "
   ]
  },
  {
   "cell_type": "code",
   "execution_count": 23,
   "id": "d8f6cab2",
   "metadata": {},
   "outputs": [],
   "source": [
    "train = pd.concat([train1, train2], axis=0)"
   ]
  },
  {
   "cell_type": "markdown",
   "id": "10b7db73",
   "metadata": {},
   "source": [
    "# Save datasets as .csv files"
   ]
  },
  {
   "cell_type": "code",
   "execution_count": 32,
   "id": "f9ce0243",
   "metadata": {},
   "outputs": [],
   "source": [
    "# save datasets as csv files"
   ]
  },
  {
   "cell_type": "code",
   "execution_count": 33,
   "id": "6f43233c",
   "metadata": {},
   "outputs": [],
   "source": [
    "train.to_csv('../input/train.csv', index=False)\n",
    "ext.to_csv('../input/external.csv', index=False)"
   ]
  }
 ],
 "metadata": {
  "kernelspec": {
   "display_name": "Python 3 (ipykernel)",
   "language": "python",
   "name": "python3"
  },
  "language_info": {
   "codemirror_mode": {
    "name": "ipython",
    "version": 3
   },
   "file_extension": ".py",
   "mimetype": "text/x-python",
   "name": "python",
   "nbconvert_exporter": "python",
   "pygments_lexer": "ipython3",
   "version": "3.9.12"
  }
 },
 "nbformat": 4,
 "nbformat_minor": 5
}
